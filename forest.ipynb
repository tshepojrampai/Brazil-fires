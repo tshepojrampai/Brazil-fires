{
 "cells": [
  {
   "cell_type": "code",
   "execution_count": 1,
   "metadata": {},
   "outputs": [],
   "source": [
    "import dash\n",
    "import dash_table\n",
    "import dash_core_components as dcc\n",
    "import dash_html_components as html\n",
    "import pandas as pd\n",
    "import numpy as np\n",
    "import seaborn as sns\n",
    "import matplotlib.pyplot as plt\n",
    "import plotly.graph_objects as go\n",
    "from dash.dependencies import Input, Output\n",
    "app =  dash.Dash()\n",
    "server =  app.server\n",
    "colors = {\n",
    "    'background': '#111111',\n",
    "    'text': '#7FDBFF'\n",
    "}"
   ]
  },
  {
   "cell_type": "code",
   "execution_count": 2,
   "metadata": {},
   "outputs": [
    {
     "data": {
      "text/html": [
       "<div>\n",
       "<style scoped>\n",
       "    .dataframe tbody tr th:only-of-type {\n",
       "        vertical-align: middle;\n",
       "    }\n",
       "\n",
       "    .dataframe tbody tr th {\n",
       "        vertical-align: top;\n",
       "    }\n",
       "\n",
       "    .dataframe thead th {\n",
       "        text-align: right;\n",
       "    }\n",
       "</style>\n",
       "<table border=\"1\" class=\"dataframe\">\n",
       "  <thead>\n",
       "    <tr style=\"text-align: right;\">\n",
       "      <th></th>\n",
       "      <th>year</th>\n",
       "      <th>state</th>\n",
       "      <th>month</th>\n",
       "      <th>number</th>\n",
       "      <th>date</th>\n",
       "    </tr>\n",
       "  </thead>\n",
       "  <tbody>\n",
       "    <tr>\n",
       "      <th>0</th>\n",
       "      <td>1998</td>\n",
       "      <td>Acre</td>\n",
       "      <td>January</td>\n",
       "      <td>0.0</td>\n",
       "      <td>1998-01-01</td>\n",
       "    </tr>\n",
       "    <tr>\n",
       "      <th>1</th>\n",
       "      <td>1999</td>\n",
       "      <td>Acre</td>\n",
       "      <td>January</td>\n",
       "      <td>0.0</td>\n",
       "      <td>1999-01-01</td>\n",
       "    </tr>\n",
       "    <tr>\n",
       "      <th>2</th>\n",
       "      <td>2000</td>\n",
       "      <td>Acre</td>\n",
       "      <td>January</td>\n",
       "      <td>0.0</td>\n",
       "      <td>2000-01-01</td>\n",
       "    </tr>\n",
       "    <tr>\n",
       "      <th>3</th>\n",
       "      <td>2001</td>\n",
       "      <td>Acre</td>\n",
       "      <td>January</td>\n",
       "      <td>0.0</td>\n",
       "      <td>2001-01-01</td>\n",
       "    </tr>\n",
       "    <tr>\n",
       "      <th>4</th>\n",
       "      <td>2002</td>\n",
       "      <td>Acre</td>\n",
       "      <td>January</td>\n",
       "      <td>0.0</td>\n",
       "      <td>2002-01-01</td>\n",
       "    </tr>\n",
       "  </tbody>\n",
       "</table>\n",
       "</div>"
      ],
      "text/plain": [
       "   year state    month  number        date\n",
       "0  1998  Acre  January     0.0  1998-01-01\n",
       "1  1999  Acre  January     0.0  1999-01-01\n",
       "2  2000  Acre  January     0.0  2000-01-01\n",
       "3  2001  Acre  January     0.0  2001-01-01\n",
       "4  2002  Acre  January     0.0  2002-01-01"
      ]
     },
     "execution_count": 2,
     "metadata": {},
     "output_type": "execute_result"
    }
   ],
   "source": [
    "df = pd.read_csv('amazon.csv',encoding='latin1')\n",
    "\n",
    "#MONTHS TO ENGLISH\n",
    "span_to_eng = {\n",
    "    'Janeiro':'January',\n",
    "    'Fevereiro': 'February',\n",
    "    'Março':'March',\n",
    "    'Abril':'April',\n",
    "    'Maio':'May',\n",
    "    'Junho':'June',\n",
    "    'Julho':'July',\n",
    "    'Agosto':'August',\n",
    "    'Setembro':'September',\n",
    "    'Outubro': 'October',\n",
    "    'Novembro': 'November',\n",
    "    'Dezembro':'December'    \n",
    "}\n",
    "df['month'] = df['month'].map(span_to_eng)\n",
    "available_indicators = df['month'].unique()\n",
    "df.head()"
   ]
  },
  {
   "cell_type": "code",
   "execution_count": 3,
   "metadata": {},
   "outputs": [
    {
     "data": {
      "text/plain": [
       "year      0\n",
       "state     0\n",
       "month     0\n",
       "number    0\n",
       "date      0\n",
       "dtype: int64"
      ]
     },
     "execution_count": 3,
     "metadata": {},
     "output_type": "execute_result"
    }
   ],
   "source": [
    "df.isnull().sum()"
   ]
  },
  {
   "cell_type": "code",
   "execution_count": 4,
   "metadata": {},
   "outputs": [],
   "source": [
    "df_max = pd.DataFrame(df.groupby(['year','state','month']).number.sum())\n"
   ]
  },
  {
   "cell_type": "code",
   "execution_count": 5,
   "metadata": {},
   "outputs": [
    {
     "name": "stdout",
     "output_type": "stream",
     "text": [
      "The state with the most fires is: \n"
     ]
    },
    {
     "data": {
      "text/html": [
       "<div>\n",
       "<style scoped>\n",
       "    .dataframe tbody tr th:only-of-type {\n",
       "        vertical-align: middle;\n",
       "    }\n",
       "\n",
       "    .dataframe tbody tr th {\n",
       "        vertical-align: top;\n",
       "    }\n",
       "\n",
       "    .dataframe thead th {\n",
       "        text-align: right;\n",
       "    }\n",
       "</style>\n",
       "<table border=\"1\" class=\"dataframe\">\n",
       "  <thead>\n",
       "    <tr style=\"text-align: right;\">\n",
       "      <th></th>\n",
       "      <th>state</th>\n",
       "      <th>number</th>\n",
       "    </tr>\n",
       "  </thead>\n",
       "  <tbody>\n",
       "    <tr>\n",
       "      <th>0</th>\n",
       "      <td>Mato Grosso</td>\n",
       "      <td>96246.028</td>\n",
       "    </tr>\n",
       "  </tbody>\n",
       "</table>\n",
       "</div>"
      ],
      "text/plain": [
       "         state     number\n",
       "0  Mato Grosso  96246.028"
      ]
     },
     "execution_count": 5,
     "metadata": {},
     "output_type": "execute_result"
    }
   ],
   "source": [
    "df_sum_state = pd.DataFrame(df_max.groupby(['state']).number.sum())\n",
    "df_sum_state = df_sum_state[df_sum_state.number == df_sum_state.number.max()]\n",
    "print('The state with the most fires is: ')\n",
    "df_sum_state.reset_index(drop=False)"
   ]
  },
  {
   "cell_type": "code",
   "execution_count": 6,
   "metadata": {},
   "outputs": [
    {
     "name": "stdout",
     "output_type": "stream",
     "text": [
      "The year with most fires is:\n"
     ]
    },
    {
     "data": {
      "text/html": [
       "<div>\n",
       "<style scoped>\n",
       "    .dataframe tbody tr th:only-of-type {\n",
       "        vertical-align: middle;\n",
       "    }\n",
       "\n",
       "    .dataframe tbody tr th {\n",
       "        vertical-align: top;\n",
       "    }\n",
       "\n",
       "    .dataframe thead th {\n",
       "        text-align: right;\n",
       "    }\n",
       "</style>\n",
       "<table border=\"1\" class=\"dataframe\">\n",
       "  <thead>\n",
       "    <tr style=\"text-align: right;\">\n",
       "      <th></th>\n",
       "      <th>number</th>\n",
       "    </tr>\n",
       "    <tr>\n",
       "      <th>year</th>\n",
       "      <th></th>\n",
       "    </tr>\n",
       "  </thead>\n",
       "  <tbody>\n",
       "    <tr>\n",
       "      <th>2003</th>\n",
       "      <td>42760.674</td>\n",
       "    </tr>\n",
       "  </tbody>\n",
       "</table>\n",
       "</div>"
      ],
      "text/plain": [
       "         number\n",
       "year           \n",
       "2003  42760.674"
      ]
     },
     "execution_count": 6,
     "metadata": {},
     "output_type": "execute_result"
    }
   ],
   "source": [
    "df_sum_year = pd.DataFrame(df_max.groupby(['year']).number.sum())\n",
    "df_sum_yea = df_sum_year[df_sum_year.number == df_sum_year.number.max()]\n",
    "print('The year with most fires is:')\n",
    "df_sum_yea"
   ]
  },
  {
   "cell_type": "code",
   "execution_count": 7,
   "metadata": {},
   "outputs": [
    {
     "name": "stdout",
     "output_type": "stream",
     "text": [
      "The year and month with most fires is:\n"
     ]
    },
    {
     "data": {
      "text/html": [
       "<div>\n",
       "<style scoped>\n",
       "    .dataframe tbody tr th:only-of-type {\n",
       "        vertical-align: middle;\n",
       "    }\n",
       "\n",
       "    .dataframe tbody tr th {\n",
       "        vertical-align: top;\n",
       "    }\n",
       "\n",
       "    .dataframe thead th {\n",
       "        text-align: right;\n",
       "    }\n",
       "</style>\n",
       "<table border=\"1\" class=\"dataframe\">\n",
       "  <thead>\n",
       "    <tr style=\"text-align: right;\">\n",
       "      <th></th>\n",
       "      <th>key</th>\n",
       "      <th>number</th>\n",
       "    </tr>\n",
       "  </thead>\n",
       "  <tbody>\n",
       "    <tr>\n",
       "      <th>0</th>\n",
       "      <td>August-2006</td>\n",
       "      <td>7338.127</td>\n",
       "    </tr>\n",
       "  </tbody>\n",
       "</table>\n",
       "</div>"
      ],
      "text/plain": [
       "           key    number\n",
       "0  August-2006  7338.127"
      ]
     },
     "execution_count": 7,
     "metadata": {},
     "output_type": "execute_result"
    }
   ],
   "source": [
    "df['key'] = df.month.map(str)+'-'+df.year.apply(str)\n",
    "df_sum_yr_month = pd.DataFrame(df.groupby(['key']).number.sum())\n",
    "df_sum_yr_mont = df_sum_yr_month[df_sum_yr_month.number == df_sum_yr_month.number.max()]\n",
    "print('The year and month with most fires is:')\n",
    "df_sum_yr_mont.reset_index(drop=False)"
   ]
  },
  {
   "cell_type": "code",
   "execution_count": 8,
   "metadata": {},
   "outputs": [],
   "source": [
    "df['key'] = df.month.map(str)+'-'+df.year.apply(str)\n",
    "df['country']= 'Brazil'\n",
    "hover_text = []\n",
    "\n",
    "#define hover text\n",
    "for index, row in df.iterrows():\n",
    "    hover_text.append(('Country: {country}<br>'+\n",
    "                      'State: {state}<br>'+\n",
    "                      'Fires: {number}<br>'+\n",
    "                      'Year: {year}').format(country=row['country'],\n",
    "                                            state=row['state'],\n",
    "                                            number=row['number'],\n",
    "                                            year=row['year']))\n",
    "df['text'] = hover_text\n"
   ]
  },
  {
   "cell_type": "code",
   "execution_count": null,
   "metadata": {},
   "outputs": [],
   "source": [
    "df_acre = df[df.state =='Acre']\n",
    "df_alagoas = df[df.state =='Alagoas']\n",
    "df_amapa = df[df.state =='Amapa']\n",
    "df_amazonas = df[df.state =='Amazonas']\n",
    "df_bahia = df[df.state =='Bahia']\n",
    "df_ceara = df[df.state =='Ceara']\n",
    "df_distrito = df[df.state =='Distrito Federal']\n",
    "df_esperito = df[df.state =='Esperito Santo']\n",
    "df_goias = df[df.state =='Goias']\n",
    "df_maranhao = df[df.state =='Maranhao']\n",
    "df_mato = df[df.state =='Mato Grosso']\n",
    "df_minas = df[df.state =='Minas Gerais']\n",
    "df_para = df[df.state =='Pará']\n",
    "df_paraiba= df[df.state =='Paraiba']\n",
    "df_perna = df[df.state =='Pernambuco']\n",
    "df_goias = df[df.state =='Piau']\n",
    "df_rio = df[df.state =='Rio']\n",
    "df_rondo = df[df.state =='Rondonia']\n",
    "df_roraima = df[df.state =='Roraima']\n",
    "df_santa = df[df.state =='Santa Catarina']\n",
    "df_sao = df[df.state =='Sao Paulo']\n",
    "df_sergipe = df[df.state =='Sergipe']\n",
    "df_tocantins = df[df.state =='Tocantins']"
   ]
  },
  {
   "cell_type": "code",
   "execution_count": null,
   "metadata": {},
   "outputs": [
    {
     "name": "stdout",
     "output_type": "stream",
     "text": [
      " * Serving Flask app \"__main__\" (lazy loading)\n",
      " * Environment: production\n",
      "   WARNING: Do not use the development server in a production environment.\n",
      "   Use a production WSGI server instead.\n",
      " * Debug mode: off\n"
     ]
    },
    {
     "name": "stderr",
     "output_type": "stream",
     "text": [
      " * Running on http://127.0.0.1:4050/ (Press CTRL+C to quit)\n",
      "127.0.0.1 - - [23/Mar/2020 18:41:58] \"GET / HTTP/1.1\" 200 -\n",
      "127.0.0.1 - - [23/Mar/2020 18:41:58] \"GET /_dash-dependencies HTTP/1.1\" 200 -\n",
      "127.0.0.1 - - [23/Mar/2020 18:41:58] \"GET /_favicon.ico?v=1.8.0 HTTP/1.1\" 200 -\n",
      "127.0.0.1 - - [23/Mar/2020 18:41:58] \"GET /_dash-layout HTTP/1.1\" 200 -\n"
     ]
    }
   ],
   "source": [
    "\n",
    "app.layout = html.Div(style={'backgroundColor': ['#b50000', '#e63535', '#fa8989'],'size': 9,'line': {'width': 1, 'color': 'orange'}}, children=[\n",
    "    html.H1(\n",
    "        children='Brazil Forest Fires',\n",
    "        style={\n",
    "            'textAlign': 'center',\n",
    "            'color': 'green',\n",
    "            'backgroundColor': 'yellow'\n",
    "        }\n",
    "    ),\n",
    "    html.Div(\n",
    "            [\n",
    "            html.Div(\n",
    "                [\n",
    "                    html.H1('Fires per state', style={'textAlign': 'center','color': 'green','backgroundColor': 'yellow'}),\n",
    "                    dcc.RadioItems(\n",
    "                            id = 'stats',\n",
    "                            options=[\n",
    "                                {'label': 'Fire per state', 'value': 'state'},\n",
    "                                {'label': 'Fire per year', 'value': 'year'},\n",
    "                                {'label': 'Fire per month', 'value': 'month'}\n",
    "                            ],\n",
    "                            value=['state', 'year','month'],\n",
    "                            labelStyle={'display': 'inline-block','color': 'green'}\n",
    "                    ),\n",
    "                ],\n",
    "                className='six columns',\n",
    "                style={'margin-top': '10'}\n",
    "            ),\n",
    "        ], className=\"row\"\n",
    "    ),\n",
    "    dcc.Graph(\n",
    "        id='Graph1',\n",
    "        figure={\n",
    "            'data': [\n",
    "                {'x': df.state, 'y': df.number, 'type': 'bar', 'name': 'state','marker': {'color': ['#b50000', '#e63535', '#fa8989'],'size': 9,'line': {'width': 1, 'color': 'orange'}}},\n",
    "                \n",
    "            ],\n",
    "            'layout': {\n",
    "                'plot_bgcolor': colors['background'],\n",
    "                'paper_bgcolor': colors['background'],\n",
    "                'font': {\n",
    "                'color': 'green'\n",
    "                }\n",
    "            }\n",
    "        }\n",
    "    ),\n",
    "      html.Div(style={'backgroundColor': 'yellow'}, children=[\n",
    "    html.H1(\n",
    "        children='Fires per year',\n",
    "        style={\n",
    "            'textAlign': 'center',\n",
    "            'color': 'green'\n",
    "        }\n",
    "    )]),\n",
    "    dcc.Graph(\n",
    "        id='Graph2',\n",
    "        figure={\n",
    "            'data': [\n",
    "                {'x': df.year, 'y': df.number, 'type': 'bar', 'name': 'year','marker': {'color': ['#b50000', '#e63535', '#fa8989'],'size': 9,'line': {'width': 1, 'color': 'orange'}}},\n",
    "                \n",
    "            ],\n",
    "            'layout': {\n",
    "                'plot_bgcolor': colors['background'],\n",
    "                'paper_bgcolor': colors['background'],\n",
    "                'font': {\n",
    "                'color': 'green'\n",
    "                }\n",
    "            }\n",
    "        }\n",
    "    ),\n",
    "      html.Div(style={'backgroundColor': 'yellow'}, children=[\n",
    "    html.H1(\n",
    "        children='Fires per Year and Month',\n",
    "        style={\n",
    "            'textAlign': 'center',\n",
    "            'color': 'green'\n",
    "        }\n",
    "    )]),\n",
    "    dcc.Graph(\n",
    "        id='Graph3',\n",
    "        figure={\n",
    "            'data': [\n",
    "                {'x': df.key, 'y': df.number, 'type': 'bar', 'name': 'month','marker': {'color': ['#b50000', '#e63535', '#fa8989'],'size': 9,'line': {'width': 1, 'color': 'orange'}}},\n",
    "                \n",
    "            ],\n",
    "            'layout': {\n",
    "                'plot_bgcolor': colors['background'],\n",
    "                'paper_bgcolor': colors['background'],\n",
    "                'font': {\n",
    "                'color': 'green'\n",
    "                }\n",
    "            }\n",
    "        }\n",
    "    ), \n",
    "])\n",
    "if __name__ == '__main__':\n",
    "    app.run_server(port=4050)"
   ]
  }
 ],
 "metadata": {
  "kernelspec": {
   "display_name": "Python 3",
   "language": "python",
   "name": "python3"
  },
  "language_info": {
   "codemirror_mode": {
    "name": "ipython",
    "version": 3
   },
   "file_extension": ".py",
   "mimetype": "text/x-python",
   "name": "python",
   "nbconvert_exporter": "python",
   "pygments_lexer": "ipython3",
   "version": "3.7.3"
  }
 },
 "nbformat": 4,
 "nbformat_minor": 2
}
