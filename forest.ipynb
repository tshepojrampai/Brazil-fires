{
 "cells": [
  {
   "cell_type": "markdown",
   "metadata": {
    "slideshow": {
     "slide_type": "slide"
    }
   },
   "source": [
    "### Brazil Forest Fires\n",
    "#### By Tshepo Rampai"
   ]
  },
  {
   "cell_type": "markdown",
   "metadata": {
    "slideshow": {
     "slide_type": "slide"
    }
   },
   "source": [
    "### Context\n",
    "\n",
    "* Wildfire is a fire in an area of burning vegetation that occurs in the forest or countryside\n",
    "* Brazil is prone to large forest fires, with it having the largest rainforest in the world\n",
    "\n",
    "### Content\n",
    "* The dataset comprises of forest fires per state over a period of over 15 years\n",
    "\n"
   ]
  },
  {
   "cell_type": "markdown",
   "metadata": {
    "slideshow": {
     "slide_type": "slide"
    }
   },
   "source": [
    "### Required\n",
    "\n",
    "* Format months to English\n",
    "\n",
    "* Determine which state has the most fires\n",
    "\n",
    "* Determine which year has the most fires\n",
    "\n",
    "* Determine which year and month has the most fires\n"
   ]
  },
  {
   "cell_type": "markdown",
   "metadata": {
    "slideshow": {
     "slide_type": "slide"
    }
   },
   "source": [
    "### Required Packages\n",
    "* plotly == 4.5.3\n",
    "\n",
    "* pandas == 1.0.1\n",
    "\n",
    "* numpy == 1.16.2\n",
    "\n",
    "* dash == 1.10.0\n",
    "\n",
    "* bokeh == 1.0.4\n",
    "\n"
   ]
  },
  {
   "cell_type": "code",
   "execution_count": 1,
   "metadata": {
    "slideshow": {
     "slide_type": "skip"
    }
   },
   "outputs": [],
   "source": [
    "import dash\n",
    "import dash_table\n",
    "import dash_core_components as dcc\n",
    "import dash_html_components as html\n",
    "import pandas as pd\n",
    "import numpy as np\n",
    "import seaborn as sns\n",
    "import matplotlib.pyplot as plt\n",
    "import plotly.graph_objects as go\n",
    "from dash.dependencies import Input, Output\n",
    "app =  dash.Dash()\n",
    "server =  app.server\n",
    "colors = {\n",
    "    'background': '#111111',\n",
    "    'text': '#7FDBFF'\n",
    "}"
   ]
  },
  {
   "cell_type": "markdown",
   "metadata": {
    "slideshow": {
     "slide_type": "slide"
    }
   },
   "source": [
    "### 1. Cleaning and renaming months"
   ]
  },
  {
   "cell_type": "code",
   "execution_count": 2,
   "metadata": {
    "slideshow": {
     "slide_type": "subslide"
    }
   },
   "outputs": [
    {
     "data": {
      "text/plain": [
       "year      0\n",
       "state     0\n",
       "month     0\n",
       "number    0\n",
       "date      0\n",
       "dtype: int64"
      ]
     },
     "execution_count": 2,
     "metadata": {},
     "output_type": "execute_result"
    }
   ],
   "source": [
    "df = pd.read_csv('data/amazon.csv',encoding='latin1')\n",
    "\n",
    "#MONTHS TO ENGLISH\n",
    "span_to_eng = {\n",
    "    'Janeiro':'January',\n",
    "    'Fevereiro': 'February',\n",
    "    'Março':'March',\n",
    "    'Abril':'April',\n",
    "    'Maio':'May',\n",
    "    'Junho':'June',\n",
    "    'Julho':'July',\n",
    "    'Agosto':'August',\n",
    "    'Setembro':'September',\n",
    "    'Outubro': 'October',\n",
    "    'Novembro': 'November',\n",
    "    'Dezembro':'December'    \n",
    "}\n",
    "df['month'] = df['month'].map(span_to_eng)\n",
    "df.isnull().sum()"
   ]
  },
  {
   "cell_type": "markdown",
   "metadata": {
    "slideshow": {
     "slide_type": "slide"
    }
   },
   "source": [
    "### 2. State that had the most fires"
   ]
  },
  {
   "cell_type": "code",
   "execution_count": 3,
   "metadata": {
    "slideshow": {
     "slide_type": "subslide"
    }
   },
   "outputs": [
    {
     "data": {
      "text/html": [
       "<div>\n",
       "<style scoped>\n",
       "    .dataframe tbody tr th:only-of-type {\n",
       "        vertical-align: middle;\n",
       "    }\n",
       "\n",
       "    .dataframe tbody tr th {\n",
       "        vertical-align: top;\n",
       "    }\n",
       "\n",
       "    .dataframe thead th {\n",
       "        text-align: right;\n",
       "    }\n",
       "</style>\n",
       "<table border=\"1\" class=\"dataframe\">\n",
       "  <thead>\n",
       "    <tr style=\"text-align: right;\">\n",
       "      <th></th>\n",
       "      <th>state</th>\n",
       "      <th>number</th>\n",
       "    </tr>\n",
       "  </thead>\n",
       "  <tbody>\n",
       "    <tr>\n",
       "      <th>0</th>\n",
       "      <td>Mato Grosso</td>\n",
       "      <td>96246.028</td>\n",
       "    </tr>\n",
       "    <tr>\n",
       "      <th>1</th>\n",
       "      <td>Paraiba</td>\n",
       "      <td>52435.918</td>\n",
       "    </tr>\n",
       "    <tr>\n",
       "      <th>2</th>\n",
       "      <td>Sao Paulo</td>\n",
       "      <td>51121.198</td>\n",
       "    </tr>\n",
       "    <tr>\n",
       "      <th>3</th>\n",
       "      <td>Rio</td>\n",
       "      <td>45160.865</td>\n",
       "    </tr>\n",
       "    <tr>\n",
       "      <th>4</th>\n",
       "      <td>Bahia</td>\n",
       "      <td>44746.226</td>\n",
       "    </tr>\n",
       "  </tbody>\n",
       "</table>\n",
       "</div>"
      ],
      "text/plain": [
       "         state     number\n",
       "0  Mato Grosso  96246.028\n",
       "1      Paraiba  52435.918\n",
       "2    Sao Paulo  51121.198\n",
       "3          Rio  45160.865\n",
       "4        Bahia  44746.226"
      ]
     },
     "execution_count": 3,
     "metadata": {},
     "output_type": "execute_result"
    }
   ],
   "source": [
    "#grouped dataframe\n",
    "df_max = pd.DataFrame(df.groupby(['year','state','month']).number.sum())\n",
    "\n",
    "#total by state\n",
    "df_sum_state = pd.DataFrame(df_max.groupby(['state']).number.sum())\n",
    "df_sum_state = df_sum_state.sort_values(by=['number'], ascending=False)\n",
    "df_sum_state = df_sum_state.reset_index(drop=False)\n",
    "df_sum_state.head()"
   ]
  },
  {
   "cell_type": "markdown",
   "metadata": {
    "slideshow": {
     "slide_type": "slide"
    }
   },
   "source": [
    "### 3. Year that had the most fires"
   ]
  },
  {
   "cell_type": "code",
   "execution_count": 4,
   "metadata": {
    "scrolled": false,
    "slideshow": {
     "slide_type": "subslide"
    }
   },
   "outputs": [
    {
     "data": {
      "text/html": [
       "<div>\n",
       "<style scoped>\n",
       "    .dataframe tbody tr th:only-of-type {\n",
       "        vertical-align: middle;\n",
       "    }\n",
       "\n",
       "    .dataframe tbody tr th {\n",
       "        vertical-align: top;\n",
       "    }\n",
       "\n",
       "    .dataframe thead th {\n",
       "        text-align: right;\n",
       "    }\n",
       "</style>\n",
       "<table border=\"1\" class=\"dataframe\">\n",
       "  <thead>\n",
       "    <tr style=\"text-align: right;\">\n",
       "      <th></th>\n",
       "      <th>year</th>\n",
       "      <th>number</th>\n",
       "    </tr>\n",
       "  </thead>\n",
       "  <tbody>\n",
       "    <tr>\n",
       "      <th>0</th>\n",
       "      <td>2003</td>\n",
       "      <td>42760.674</td>\n",
       "    </tr>\n",
       "    <tr>\n",
       "      <th>1</th>\n",
       "      <td>2016</td>\n",
       "      <td>42212.229</td>\n",
       "    </tr>\n",
       "    <tr>\n",
       "      <th>2</th>\n",
       "      <td>2015</td>\n",
       "      <td>41208.292</td>\n",
       "    </tr>\n",
       "    <tr>\n",
       "      <th>3</th>\n",
       "      <td>2012</td>\n",
       "      <td>40084.860</td>\n",
       "    </tr>\n",
       "    <tr>\n",
       "      <th>4</th>\n",
       "      <td>2014</td>\n",
       "      <td>39621.183</td>\n",
       "    </tr>\n",
       "  </tbody>\n",
       "</table>\n",
       "</div>"
      ],
      "text/plain": [
       "   year     number\n",
       "0  2003  42760.674\n",
       "1  2016  42212.229\n",
       "2  2015  41208.292\n",
       "3  2012  40084.860\n",
       "4  2014  39621.183"
      ]
     },
     "execution_count": 4,
     "metadata": {},
     "output_type": "execute_result"
    }
   ],
   "source": [
    "#total by year\n",
    "df_sum_year = pd.DataFrame(df_max.groupby(['year']).number.sum())\n",
    "df_sum_year = df_sum_year.sort_values(by=['number'],ascending=False)\n",
    "df_sum_year = df_sum_year.reset_index(drop=False)\n",
    "df_sum_year.head()"
   ]
  },
  {
   "cell_type": "markdown",
   "metadata": {
    "slideshow": {
     "slide_type": "slide"
    }
   },
   "source": [
    "### 4. Year and month with the most fires"
   ]
  },
  {
   "cell_type": "code",
   "execution_count": 5,
   "metadata": {
    "slideshow": {
     "slide_type": "subslide"
    }
   },
   "outputs": [
    {
     "data": {
      "text/html": [
       "<div>\n",
       "<style scoped>\n",
       "    .dataframe tbody tr th:only-of-type {\n",
       "        vertical-align: middle;\n",
       "    }\n",
       "\n",
       "    .dataframe tbody tr th {\n",
       "        vertical-align: top;\n",
       "    }\n",
       "\n",
       "    .dataframe thead th {\n",
       "        text-align: right;\n",
       "    }\n",
       "</style>\n",
       "<table border=\"1\" class=\"dataframe\">\n",
       "  <thead>\n",
       "    <tr style=\"text-align: right;\">\n",
       "      <th></th>\n",
       "      <th>year</th>\n",
       "      <th>number</th>\n",
       "    </tr>\n",
       "  </thead>\n",
       "  <tbody>\n",
       "    <tr>\n",
       "      <th>0</th>\n",
       "      <td>2003</td>\n",
       "      <td>42760.674</td>\n",
       "    </tr>\n",
       "    <tr>\n",
       "      <th>1</th>\n",
       "      <td>2016</td>\n",
       "      <td>42212.229</td>\n",
       "    </tr>\n",
       "    <tr>\n",
       "      <th>2</th>\n",
       "      <td>2015</td>\n",
       "      <td>41208.292</td>\n",
       "    </tr>\n",
       "    <tr>\n",
       "      <th>3</th>\n",
       "      <td>2012</td>\n",
       "      <td>40084.860</td>\n",
       "    </tr>\n",
       "    <tr>\n",
       "      <th>4</th>\n",
       "      <td>2014</td>\n",
       "      <td>39621.183</td>\n",
       "    </tr>\n",
       "  </tbody>\n",
       "</table>\n",
       "</div>"
      ],
      "text/plain": [
       "   year     number\n",
       "0  2003  42760.674\n",
       "1  2016  42212.229\n",
       "2  2015  41208.292\n",
       "3  2012  40084.860\n",
       "4  2014  39621.183"
      ]
     },
     "execution_count": 5,
     "metadata": {},
     "output_type": "execute_result"
    }
   ],
   "source": [
    "#total by month and year\n",
    "df['key'] = df.month.map(str)+'-'+df.year.apply(str)\n",
    "df_sum_yr_month = pd.DataFrame(df.groupby(['key']).number.sum())\n",
    "df_sum_yr_month = df_sum_yr_month.sort_values(by=['number'], ascending=False)\n",
    "df_sum_yr_month = df_sum_yr_month .reset_index(drop=False)\n",
    "df_sum_year.head()"
   ]
  },
  {
   "cell_type": "markdown",
   "metadata": {
    "slideshow": {
     "slide_type": "slide"
    }
   },
   "source": [
    "### 5. Dashboard Visualisation"
   ]
  },
  {
   "cell_type": "code",
   "execution_count": 6,
   "metadata": {
    "slideshow": {
     "slide_type": "skip"
    }
   },
   "outputs": [],
   "source": [
    "style_table = {\n",
    "    'maxHeight': '50ex',\n",
    "    'overflowY': 'scroll',\n",
    "    'width': '30%',\n",
    "    'minWidth': '30%',\n",
    "}\n",
    "style_cell = {\n",
    "    'fontFamily': 'Open Sans',\n",
    "    'textAlign': 'center',\n",
    "    'height': '30px',\n",
    "    'padding': '10px 22px',\n",
    "    'whiteSpace': 'inherit',\n",
    "    'overflow': 'hidden',\n",
    "                'textOverflow': 'ellipsis',\n",
    "}\n",
    "style_cell_conditional = [\n",
    "    {\n",
    "        'if': {'column_id': 'State'},\n",
    "        'textAlign': 'left'\n",
    "    },\n",
    "]\n",
    "style_header = {\n",
    "    'fontWeight': 'bold',\n",
    "    'backgroundColor': \"#3D9970\",\n",
    "    'fontSize': '16px'\n",
    "}\n",
    "style_data_conditional = [\n",
    "    {\n",
    "        'if': {'row_index': 'odd'},\n",
    "        'backgroundColor': 'rgb(248, 248, 248)'\n",
    "    }]\n",
    "style_table = {\n",
    "    'maxHeight': '50ex',\n",
    "    'overflowY': 'scroll',\n",
    "    'width': '100%',\n",
    "    'minWidth': '100%',\n",
    "}"
   ]
  },
  {
   "cell_type": "code",
   "execution_count": 7,
   "metadata": {
    "slideshow": {
     "slide_type": "subslide"
    }
   },
   "outputs": [],
   "source": [
    "\n",
    "# Style sheet\n",
    "external_stylesheets = ['https://codepen.io/chriddyp/pen/bWLwgP.css']\n",
    "\n",
    "# App\n",
    "app = dash.Dash(__name__, external_stylesheets=external_stylesheets)\n",
    "\n",
    "# layout\n",
    "app.layout = html.Div(children=[\n",
    "    html.H1(\n",
    "        children='Brazil Forest Fires',\n",
    "        style={\n",
    "            'textAlign': 'center',\n",
    "            'color': 'green'\n",
    "        }\n",
    "    ),\n",
    "    dcc.Tabs(id='tabs-example', value='tab', children=[\n",
    "        dcc.Tab(label='Fire per state', value='tab-1'),\n",
    "        dcc.Tab(label='Fires per year', value='tab-2'),\n",
    "        dcc.Tab(label='Fires per year and month', value='tab-3'),\n",
    "    ]),\n",
    "    html.Div(id='tabs-example-content')\n",
    "])"
   ]
  },
  {
   "cell_type": "code",
   "execution_count": null,
   "metadata": {
    "slideshow": {
     "slide_type": "subslide"
    }
   },
   "outputs": [
    {
     "name": "stdout",
     "output_type": "stream",
     "text": [
      "Running on http://127.0.0.1:8050/\n",
      "Running on http://127.0.0.1:8050/\n",
      "Debugger PIN: 551-621-761\n",
      "Debugger PIN: 551-621-761\n",
      " * Serving Flask app \"__main__\" (lazy loading)\n",
      " * Environment: production\n",
      "   WARNING: Do not use the development server in a production environment.\n",
      "   Use a production WSGI server instead.\n",
      " * Debug mode: on\n"
     ]
    }
   ],
   "source": [
    "# callback for the responsiveness of the tab\n",
    "\n",
    "@app.callback(Output('tabs-example-content', 'children'),\n",
    "              [Input('tabs-example', 'value')])\n",
    "\n",
    "def render_content(tab):\n",
    "    '''Display the table and the graph sideby\n",
    "    side when the respective tab is selected'''\n",
    "\n",
    "    if tab == 'tab-1':\n",
    "        return html.Div([\n",
    "            html.Div([\n",
    "                html.Div([\n",
    "                    html.H1(\n",
    "                        children='Table',\n",
    "                        style={\n",
    "                            'textAlign': 'center',\n",
    "                            'color': 'green'\n",
    "                        }), dash_table.DataTable(\n",
    "                        id='table',\n",
    "                        data=df_sum_state.to_dict(\"rows\"),\n",
    "                        columns=[{\"name\": i, \"id\": i}\n",
    "                                 for i in df_sum_state.columns],\n",
    "                        style_table=style_table,\n",
    "                        style_cell=style_cell,\n",
    "                        style_data_conditional=style_data_conditional,\n",
    "                        style_header=style_header,\n",
    "                        style_cell_conditional=style_cell_conditional,\n",
    "                    )\n",
    "                ], className=\"four columns\"),\n",
    "                html.Div([\n",
    "                    html.H3('Fires per state in Brazil',\n",
    "                            style={\n",
    "                                'textAlign': 'center',\n",
    "                                'color': 'green'}),\n",
    "                    dcc.Graph(\n",
    "                        id='Graph1',\n",
    "                        figure={\n",
    "                            'data': [\n",
    "                                {'x': df.state, 'y': df.number, 'type': 'bar', 'name': 'state', 'marker': {'color': [\n",
    "                                    '#b50000', '#e63535', '#fa8989'], 'size': 9, 'line': {'width': 1, 'color': 'orange'}}},\n",
    "                            ]\n",
    "                        }\n",
    "                    )\n",
    "                ], className=\"eight columns\"),\n",
    "            ], className=\"row\")\n",
    "        ])\n",
    "\n",
    "    elif tab == 'tab-2':\n",
    "        return html.Div([\n",
    "            html.Div([\n",
    "                html.Div([\n",
    "                    html.H1(\n",
    "                        children='Table',\n",
    "                        style={\n",
    "                            'textAlign': 'center',\n",
    "                            'color': 'green'\n",
    "                        }), dash_table.DataTable(\n",
    "                        id='table',\n",
    "                        data=df_sum_year.to_dict(\"rows\"),\n",
    "                        columns=[{\"name\": i, \"id\": i}\n",
    "                                 for i in df_sum_year.columns],\n",
    "                        style_table=style_table,\n",
    "                        style_cell=style_cell,\n",
    "                        style_data_conditional=style_data_conditional,\n",
    "                        style_header=style_header,\n",
    "                        style_cell_conditional=style_cell_conditional,\n",
    "                    )\n",
    "\n",
    "                ], className=\"four columns\"),\n",
    "\n",
    "                html.Div([\n",
    "                    html.H3('Fires in Brazil per year',\n",
    "                            style={\n",
    "                                'textAlign': 'center',\n",
    "                                'color': 'green'}\n",
    "                            ), dcc.Graph(\n",
    "                        id='Graph1',\n",
    "                        figure={\n",
    "                            'data': [\n",
    "                                {'x': df.year, 'y': df.number, 'type': 'bar', 'name': 'state', 'marker': {'color': [\n",
    "                                    '#b50000', '#e63535', '#fa8989'], 'size': 9, 'line': {'width': 1, 'color': 'orange'}}},\n",
    "\n",
    "                            ]\n",
    "\n",
    "                        }\n",
    "\n",
    "                    )\n",
    "                ], className=\"eight columns\"),\n",
    "            ], className=\"row\")\n",
    "        ])\n",
    "\n",
    "    else:\n",
    "\n",
    "        return html.Div([\n",
    "            html.Div([\n",
    "                html.Div([\n",
    "                    html.H1(\n",
    "                        children='Table',\n",
    "                        style={\n",
    "                            'textAlign': 'center',\n",
    "                            'color': 'green'\n",
    "                        }), dash_table.DataTable(\n",
    "                            id='table',\n",
    "                            data=df_sum_yr_month.to_dict(\"rows\"),\n",
    "                            columns=[{\"name\": i, \"id\": i}\n",
    "                                     for i in df_sum_yr_month.columns],\n",
    "                            style_table=style_table,\n",
    "                            style_cell=style_cell,\n",
    "                            style_data_conditional=style_data_conditional,\n",
    "                            style_header=style_header,\n",
    "                            style_cell_conditional=style_cell_conditional,\n",
    "                    )\n",
    "\n",
    "                ], className=\"four columns\"),\n",
    "\n",
    "                html.Div([\n",
    "                    html.H3('Forest fires per month and year', style={\n",
    "                        'textAlign': 'center',\n",
    "                        'color': 'green'}\n",
    "                    ), dcc.Graph(\n",
    "                        id='Graph1',\n",
    "                        figure={\n",
    "                            'data': [\n",
    "                                {'x': df.key, 'y': df.number, 'type': 'bar', 'name': 'state', 'marker': {'color': [\n",
    "                                    '#b50000', '#e63535', '#fa8989'], 'size': 9, 'line': {'width': 1, 'color': 'orange'}}},\n",
    "\n",
    "                            ],\n",
    "\n",
    "                        }\n",
    "                    )\n",
    "                ], className=\"eight columns\"),\n",
    "            ], className=\"row\")\n",
    "        ])\n",
    "\n",
    "\n",
    "if __name__ == '__main__':\n",
    "    app.run_server(debug=True)\n"
   ]
  },
  {
   "cell_type": "markdown",
   "metadata": {
    "slideshow": {
     "slide_type": "slide"
    }
   },
   "source": [
    "### Overview of the app"
   ]
  },
  {
   "cell_type": "code",
   "execution_count": null,
   "metadata": {
    "slideshow": {
     "slide_type": "slide"
    }
   },
   "outputs": [],
   "source": [
    "from IPython.display import Image\n",
    "from IPython.core.display import HTML \n",
    "Image(url= \"img/state.png\")"
   ]
  },
  {
   "cell_type": "code",
   "execution_count": null,
   "metadata": {
    "slideshow": {
     "slide_type": "slide"
    }
   },
   "outputs": [],
   "source": [
    "Image(url= \"img/year.png\")"
   ]
  },
  {
   "cell_type": "code",
   "execution_count": null,
   "metadata": {
    "slideshow": {
     "slide_type": "slide"
    }
   },
   "outputs": [],
   "source": [
    "Image(url= \"img/month.png\")"
   ]
  },
  {
   "cell_type": "code",
   "execution_count": null,
   "metadata": {},
   "outputs": [],
   "source": []
  }
 ],
 "metadata": {
  "celltoolbar": "Slideshow",
  "kernelspec": {
   "display_name": "Python 3",
   "language": "python",
   "name": "python3"
  },
  "language_info": {
   "codemirror_mode": {
    "name": "ipython",
    "version": 3
   },
   "file_extension": ".py",
   "mimetype": "text/x-python",
   "name": "python",
   "nbconvert_exporter": "python",
   "pygments_lexer": "ipython3",
   "version": "3.7.3"
  }
 },
 "nbformat": 4,
 "nbformat_minor": 2
}
